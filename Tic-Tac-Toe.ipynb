{
 "cells": [
  {
   "cell_type": "code",
   "execution_count": 1,
   "metadata": {
    "collapsed": true
   },
   "outputs": [],
   "source": [
    "from IPython.display import clear_output\n",
    "import random"
   ]
  },
  {
   "cell_type": "code",
   "execution_count": 2,
   "metadata": {
    "collapsed": true
   },
   "outputs": [],
   "source": [
    "def papan_permainan(papan):\n",
    "    \n",
    "    clear_output()\n",
    "    print('     |     |')\n",
    "    print('  ' + papan[7] + '  |  ' + papan[8] + '  |  ' + papan[9])\n",
    "    print('     |     |')\n",
    "    print('-----------------')\n",
    "    print('     |     |')\n",
    "    print('  ' + papan[4] + '  |  ' + papan[5] + '  |  ' + papan[6])\n",
    "    print('     |     |')\n",
    "    print('-----------------')\n",
    "    print('     |     |')\n",
    "    print('  ' + papan[1] + '  |  ' + papan[2] + '  |  ' + papan[3])\n",
    "    print('     |     |')"
   ]
  },
  {
   "cell_type": "code",
   "execution_count": 3,
   "metadata": {
    "collapsed": true
   },
   "outputs": [],
   "source": [
    "def tanda_pemain():\n",
    "    penanda = ' '\n",
    "    \n",
    "    while not (penanda == 'X' or penanda == 'O'):\n",
    "        penanda = input('Kamu Ingin Menggunakan Penanda Apa? (X atau O)').upper()\n",
    "    \n",
    "    if penanda == 'X':\n",
    "        return(('X','O'))\n",
    "    else:\n",
    "        return(('O','X'))"
   ]
  },
  {
   "cell_type": "code",
   "execution_count": 4,
   "metadata": {
    "collapsed": true
   },
   "outputs": [],
   "source": [
    "def input_penanda(papan,penanda,posisi):\n",
    "    papan[posisi] = penanda"
   ]
  },
  {
   "cell_type": "code",
   "execution_count": 5,
   "metadata": {
    "collapsed": true
   },
   "outputs": [],
   "source": [
    "def menang_kalah(papan,tanda):\n",
    "    return((papan[7] == tanda and papan[8] == tanda and papan[9] == tanda) or\n",
    "           (papan[4] == tanda and papan[5] == tanda and papan[6] == tanda) or\n",
    "           (papan[1] == tanda and papan[2] == tanda and papan[3] == tanda) or\n",
    "           (papan[7] == tanda and papan[4] == tanda and papan[1] == tanda) or\n",
    "           (papan[8] == tanda and papan[5] == tanda and papan[2] == tanda) or\n",
    "           (papan[9] == tanda and papan[6] == tanda and papan[3] == tanda) or\n",
    "           (papan[7] == tanda and papan[5] == tanda and papan[3] == tanda) or\n",
    "           (papan[9] == tanda and papan[5] == tanda and papan[1] == tanda))"
   ]
  },
  {
   "cell_type": "code",
   "execution_count": 6,
   "metadata": {
    "collapsed": true
   },
   "outputs": [],
   "source": [
    "def acak_giliran():\n",
    "    if random.randint(0,1) == 0:\n",
    "        return('Pemain 2')\n",
    "    else:\n",
    "        return('Pemain 1')"
   ]
  },
  {
   "cell_type": "code",
   "execution_count": 7,
   "metadata": {
    "collapsed": true
   },
   "outputs": [],
   "source": [
    "def cek_posisi(papan,posisi):\n",
    "    return(papan[posisi] == ' ')"
   ]
  },
  {
   "cell_type": "code",
   "execution_count": 8,
   "metadata": {
    "collapsed": true
   },
   "outputs": [],
   "source": [
    "def cek_papan_penuh(papan):\n",
    "    for i in range(1,10):\n",
    "        if cek_posisi(papan,i):\n",
    "            return(False)\n",
    "    return(True)"
   ]
  },
  {
   "cell_type": "code",
   "execution_count": 9,
   "metadata": {
    "collapsed": true
   },
   "outputs": [],
   "source": [
    "def pilih_posisi_tanda(papan):\n",
    "    posisi = ' '\n",
    "    while posisi not in '1 2 3 4 5 6 7 8 9'.split() or not cek_posisi(papan,int(posisi)):\n",
    "        posisi = input(\"Kamu Mau Meletakan Tanda Di Posisi? (1 Sampai 9)\")\n",
    "    return(int(posisi))"
   ]
  },
  {
   "cell_type": "code",
   "execution_count": 11,
   "metadata": {},
   "outputs": [],
   "source": [
    "def main_ulang():\n",
    "    return(input('Apakah Kamu Ingin Bermain Kembali? Y atau N ').lower().startswith('y'))"
   ]
  },
  {
   "cell_type": "code",
   "execution_count": null,
   "metadata": {
    "collapsed": true
   },
   "outputs": [],
   "source": [
    "print(\"Selamat Datang Di Game Tic Tac Toe Sederhana :)\")\n",
    "\n",
    "while True:\n",
    "    papan_awal = [' ']*10\n",
    "    pemain_1, pemain_2 = tanda_pemain()\n",
    "    giliran = acak_giliran()\n",
    "    print(giliran + \" Main Pertama\")\n",
    "    game_status = True\n",
    "    \n",
    "    while game_status:\n",
    "        if giliran == 'Pemain 1':\n",
    "            papan_permainan(papan_awal)\n",
    "            posisi = pilih_posisi_tanda(papan_awal)\n",
    "            input_penanda(papan_awal, pemain_1, posisi)\n",
    "            \n",
    "            if menang_kalah(papan_awal,pemain_1):\n",
    "                papan_permainan(papan_awal)\n",
    "                print('Selamat {} Menang'.format(giliran))\n",
    "                game_status = False\n",
    "            else:\n",
    "                if cek_papan_penuh(papan_awal):\n",
    "                    papan_permainan(papan_awal)\n",
    "                    print(\"Permainan Seri, Tidak Ada Yang Kalah Atau Menang\")\n",
    "                    break\n",
    "                else:\n",
    "                    giliran = 'Pemain 2'\n",
    "        else:\n",
    "            papan_permainan(papan_awal)\n",
    "            posisi = pilih_posisi_tanda(papan_awal)\n",
    "            input_penanda(papan_awal, pemain_2, posisi)\n",
    "            \n",
    "            if menang_kalah(papan_awal,pemain_2):\n",
    "                papan_permainan(papan_awal)\n",
    "                print('Selamat {} Menang'.format(giliran))\n",
    "                game_status = False\n",
    "            else:\n",
    "                if cek_papan_penuh(papan_awal):\n",
    "                    papan_permainan(papan_awal)\n",
    "                    print(\"Permainan Seri, Tidak Ada Yang Kalah Atau Menang\")\n",
    "                    break\n",
    "                else:\n",
    "                    giliran = 'Pemain 1'\n",
    "    \n",
    "    if not main_ulang():\n",
    "        break"
   ]
  }
 ],
 "metadata": {
  "kernelspec": {
   "display_name": "Python 3",
   "language": "python",
   "name": "python3"
  },
  "language_info": {
   "codemirror_mode": {
    "name": "ipython",
    "version": 3
   },
   "file_extension": ".py",
   "mimetype": "text/x-python",
   "name": "python",
   "nbconvert_exporter": "python",
   "pygments_lexer": "ipython3",
   "version": "3.6.3"
  }
 },
 "nbformat": 4,
 "nbformat_minor": 2
}
